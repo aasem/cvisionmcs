{
  "nbformat": 4,
  "nbformat_minor": 0,
  "metadata": {
    "colab": {
      "name": "optimize_play_gradescent.ipynb",
      "provenance": [],
      "collapsed_sections": [],
      "authorship_tag": "ABX9TyMKGMlnaZEcYUeYaAPy1gyP",
      "include_colab_link": true
    },
    "kernelspec": {
      "name": "python3",
      "display_name": "Python 3"
    },
    "language_info": {
      "name": "python"
    }
  },
  "cells": [
    {
      "cell_type": "markdown",
      "metadata": {
        "id": "view-in-github",
        "colab_type": "text"
      },
      "source": [
        "<a href=\"https://colab.research.google.com/github/aasem/cvisionmcs/blob/main/optimize_play_gradescent.ipynb\" target=\"_parent\"><img src=\"https://colab.research.google.com/assets/colab-badge.svg\" alt=\"Open In Colab\"/></a>"
      ]
    },
    {
      "cell_type": "markdown",
      "metadata": {
        "id": "I4kgUwBthkRl"
      },
      "source": [
        "# Optimization Strategies - Linear Classification (SVM and Softmax) for CIFAR10 Dataset\n",
        "\n"
      ]
    },
    {
      "cell_type": "code",
      "metadata": {
        "id": "FsX3mZLlZO9R",
        "colab": {
          "base_uri": "https://localhost:8080/"
        },
        "outputId": "282bd35b-8f7b-4073-860c-a132f2dec1e2"
      },
      "source": [
        "!git clone https://github.com/aasem/cvisionmcs\n",
        "# Definitions\n",
        "import numpy as np\n",
        "import matplotlib.pyplot as plt\n",
        "import sys\n",
        "# sys.path.append('/content/cvisionmcs')\n",
        "from cvisionmcs import data_utils\n",
        "from cvisionmcs import download\n",
        "\n",
        "url = \"https://www.cs.toronto.edu/~kriz/cifar-10-python.tar.gz\"\n",
        "download_dir = \"./data\"\n",
        "download.maybe_download_and_extract(url,download_dir)\n",
        "\n",
        "cifar10_dir = './data/cifar-10-batches-py'\n",
        "X_train, y_train, X_test, y_test = data_utils.load_CIFAR10(cifar10_dir)\n",
        "\n",
        "# reshaping data and placing into rows\n",
        "X_train = np.reshape(X_train, (X_train.shape[0], -1))\n",
        "X_test = np.reshape(X_test, (X_test.shape[0], -1))\n",
        "# append 1 in the last column to cater for bias and transform into columns\n",
        "X_train = np.append(X_train, np.ones((X_train.shape[0],1)), axis=1)\n",
        "X_test = np.append(X_test, np.ones((X_test.shape[0],1)), axis=1)\n",
        "X_train = np.transpose(X_train)\n",
        "X_test = np.transpose(X_test)\n",
        "print(X_train.shape, X_test.shape)"
      ],
      "execution_count": null,
      "outputs": [
        {
          "output_type": "stream",
          "name": "stdout",
          "text": [
            "Cloning into 'cvisionmcs'...\n",
            "remote: Enumerating objects: 146, done.\u001b[K\n",
            "remote: Counting objects: 100% (146/146), done.\u001b[K\n",
            "remote: Compressing objects: 100% (132/132), done.\u001b[K\n",
            "remote: Total 146 (delta 45), reused 3 (delta 0), pack-reused 0\u001b[K\n",
            "Receiving objects: 100% (146/146), 3.44 MiB | 13.04 MiB/s, done.\n",
            "Resolving deltas: 100% (45/45), done.\n",
            "- Download progress: 100.0%\n",
            "Download finished. Extracting files.\n",
            "Done.\n",
            "(3073, 50000) (3073, 10000)\n"
          ]
        }
      ]
    },
    {
      "cell_type": "code",
      "metadata": {
        "id": "hBakDXDzd8Pd"
      },
      "source": [
        "def loss_svm(W, X, y, r_lambda):\n",
        "    \"\"\"\n",
        "    Compute the SVM loss.\n",
        "    \n",
        "    Input Parameters\n",
        "    ----------\n",
        "    W: (K, D+1) array of weights, K is the number of classes and D is the dimension of one sample plus bias\n",
        "    X: (D+1, N) array of training data, each column is a training sample with D-dimension plus bias\n",
        "    y: (N, ) 1-dimension array of target data with length N with lables 0,1, ... K-1, for K classes\n",
        "    r_lambda: (float) regularization strength for optimization.\n",
        "\n",
        "    Returns\n",
        "    -------\n",
        "    loss: (float)\n",
        "    \"\"\"\n",
        "    \n",
        "    # initialization\n",
        "    loss = 0.0\n",
        "    delta = 1.0\n",
        "    N = y.shape[0]\n",
        "\n",
        "    # compute all scores s_j\n",
        "    scores = W.dot(X) # [K x N] matrix\n",
        " \n",
        "    # get the true class score \n",
        "    true_class_score = scores[y, range(N)] # [1 x N]\n",
        "    \n",
        "    margins = scores - true_class_score + delta # [K x N]\n",
        "\n",
        "    # threshold the margins to max(0, -)\n",
        "    margins = np.maximum(0, margins)\n",
        "    margins[y, range(N)] = 0 # neglect the true class scores\n",
        "\n",
        "    loss = np.sum(margins) / N\n",
        "\n",
        "    # add regularization to loss\n",
        "    loss += 0.5 * r_lambda * np.sum(W * W)\n",
        "   \n",
        "    return loss"
      ],
      "execution_count": null,
      "outputs": []
    },
    {
      "cell_type": "markdown",
      "metadata": {
        "id": "N_TJ1dQDXiJx"
      },
      "source": [
        "## Exploring Optmization Strategies\n",
        "**Strategy #1: Random Search (Worst Idea)**"
      ]
    },
    {
      "cell_type": "code",
      "metadata": {
        "colab": {
          "base_uri": "https://localhost:8080/"
        },
        "id": "cZBqbV8qYNkT",
        "outputId": "7cfa9e19-2930-439d-b202-c67f621acdff"
      },
      "source": [
        "bestloss = float('inf') # Python assigns the highest possible float value\n",
        "for num in range(50):\n",
        "  W = np.random.randn(10, X_train.shape[0]) * 0.001 # generate random parameters\n",
        "  loss = loss_svm(W, X_train, y_train, 0.0001) # get the loss over the entire training set\n",
        "  # keep track of the best solution\n",
        "  if loss < bestloss:\n",
        "    bestloss = loss\n",
        "    bestW = W\n",
        "  print('in attempt %d the loss was %f, best %f' % (num, loss, bestloss))"
      ],
      "execution_count": null,
      "outputs": [
        {
          "output_type": "stream",
          "name": "stdout",
          "text": [
            "in attempt 0 the loss was 46.928716, best 46.928716\n",
            "in attempt 1 the loss was 38.640431, best 38.640431\n",
            "in attempt 2 the loss was 40.182537, best 38.640431\n",
            "in attempt 3 the loss was 56.392473, best 38.640431\n",
            "in attempt 4 the loss was 35.419734, best 35.419734\n",
            "in attempt 5 the loss was 48.367726, best 35.419734\n",
            "in attempt 6 the loss was 55.817676, best 35.419734\n",
            "in attempt 7 the loss was 35.279948, best 35.279948\n",
            "in attempt 8 the loss was 35.848635, best 35.279948\n",
            "in attempt 9 the loss was 29.905317, best 29.905317\n",
            "in attempt 10 the loss was 30.880710, best 29.905317\n",
            "in attempt 11 the loss was 33.170036, best 29.905317\n",
            "in attempt 12 the loss was 30.681584, best 29.905317\n",
            "in attempt 13 the loss was 49.819731, best 29.905317\n",
            "in attempt 14 the loss was 52.012972, best 29.905317\n",
            "in attempt 15 the loss was 43.894445, best 29.905317\n",
            "in attempt 16 the loss was 43.145589, best 29.905317\n",
            "in attempt 17 the loss was 43.973533, best 29.905317\n",
            "in attempt 18 the loss was 37.758166, best 29.905317\n",
            "in attempt 19 the loss was 39.703681, best 29.905317\n",
            "in attempt 20 the loss was 44.256951, best 29.905317\n",
            "in attempt 21 the loss was 56.073572, best 29.905317\n",
            "in attempt 22 the loss was 39.329674, best 29.905317\n",
            "in attempt 23 the loss was 40.670263, best 29.905317\n",
            "in attempt 24 the loss was 49.080175, best 29.905317\n",
            "in attempt 25 the loss was 47.699609, best 29.905317\n",
            "in attempt 26 the loss was 44.282504, best 29.905317\n",
            "in attempt 27 the loss was 58.283445, best 29.905317\n",
            "in attempt 28 the loss was 46.222833, best 29.905317\n",
            "in attempt 29 the loss was 43.163662, best 29.905317\n",
            "in attempt 30 the loss was 31.918584, best 29.905317\n",
            "in attempt 31 the loss was 37.372882, best 29.905317\n",
            "in attempt 32 the loss was 38.020309, best 29.905317\n",
            "in attempt 33 the loss was 38.916397, best 29.905317\n",
            "in attempt 34 the loss was 37.287292, best 29.905317\n",
            "in attempt 35 the loss was 38.029455, best 29.905317\n",
            "in attempt 36 the loss was 39.532503, best 29.905317\n",
            "in attempt 37 the loss was 33.335941, best 29.905317\n",
            "in attempt 38 the loss was 37.678567, best 29.905317\n",
            "in attempt 39 the loss was 53.643832, best 29.905317\n",
            "in attempt 40 the loss was 42.802406, best 29.905317\n",
            "in attempt 41 the loss was 57.403409, best 29.905317\n",
            "in attempt 42 the loss was 52.924641, best 29.905317\n",
            "in attempt 43 the loss was 54.843506, best 29.905317\n",
            "in attempt 44 the loss was 55.827680, best 29.905317\n",
            "in attempt 45 the loss was 55.895014, best 29.905317\n",
            "in attempt 46 the loss was 44.673012, best 29.905317\n",
            "in attempt 47 the loss was 36.029052, best 29.905317\n",
            "in attempt 48 the loss was 41.286852, best 29.905317\n",
            "in attempt 49 the loss was 38.232445, best 29.905317\n"
          ]
        }
      ]
    },
    {
      "cell_type": "code",
      "metadata": {
        "colab": {
          "base_uri": "https://localhost:8080/"
        },
        "id": "Kuf9SO00flEO",
        "outputId": "2dfb4d65-36c8-4ce7-e852-1bdac74648ea"
      },
      "source": [
        "# compute scores with best W\n",
        "scores = bestW.dot(X_test) # 10 x 10000, the class scores for all test examples\n",
        "# index with max score in each column (the predicted class)\n",
        "y_pred = np.argmax(scores, axis = 0)\n",
        "# calculate accuracy (fraction of correct predictions)\n",
        "acc = np.mean(y_pred == y_test) * 100\n",
        "print('Accuracy of classification is %f' % acc)\n"
      ],
      "execution_count": null,
      "outputs": [
        {
          "output_type": "stream",
          "name": "stdout",
          "text": [
            "Accuracy of classification is 9.840000\n"
          ]
        }
      ]
    },
    {
      "cell_type": "markdown",
      "metadata": {
        "id": "PKOUTsZnh_9S"
      },
      "source": [
        "**Strategy #2: Random Local Search (Bad Idea)**"
      ]
    },
    {
      "cell_type": "code",
      "metadata": {
        "colab": {
          "base_uri": "https://localhost:8080/"
        },
        "id": "5BGLM7B9iwZJ",
        "outputId": "4ddb44cf-66de-4922-fb95-82b3138aa143"
      },
      "source": [
        "W = np.random.randn(10, X_train.shape[0]) * 0.001 # generate random parameters\n",
        "bestloss = float('inf') # Python assigns the highest possible float value\n",
        "for num in range(100):\n",
        "  step_size = 0.0001\n",
        "  Wtry = W + np.random.randn(10, X_train.shape[0]) * step_size\n",
        "  loss = loss_svm(Wtry, X_train, y_train, 0.0001) # get the loss over the entire training set\n",
        "  # keep track of the best solution\n",
        "  if loss < bestloss:\n",
        "    bestloss = loss\n",
        "    bestW = Wtry\n",
        "  print('in attempt %d the loss was %f, best %f' % (num, loss, bestloss))"
      ],
      "execution_count": null,
      "outputs": [
        {
          "output_type": "stream",
          "name": "stdout",
          "text": [
            "in attempt 0 the loss was 47.746675, best 47.746675\n",
            "in attempt 1 the loss was 46.478478, best 46.478478\n",
            "in attempt 2 the loss was 44.014832, best 44.014832\n",
            "in attempt 3 the loss was 46.827791, best 44.014832\n",
            "in attempt 4 the loss was 47.656779, best 44.014832\n",
            "in attempt 5 the loss was 48.373235, best 44.014832\n",
            "in attempt 6 the loss was 46.005367, best 44.014832\n",
            "in attempt 7 the loss was 47.773845, best 44.014832\n",
            "in attempt 8 the loss was 45.743818, best 44.014832\n",
            "in attempt 9 the loss was 47.419827, best 44.014832\n",
            "in attempt 10 the loss was 46.328564, best 44.014832\n",
            "in attempt 11 the loss was 45.408932, best 44.014832\n",
            "in attempt 12 the loss was 46.508768, best 44.014832\n",
            "in attempt 13 the loss was 46.301365, best 44.014832\n",
            "in attempt 14 the loss was 48.620399, best 44.014832\n",
            "in attempt 15 the loss was 46.285654, best 44.014832\n",
            "in attempt 16 the loss was 46.012155, best 44.014832\n",
            "in attempt 17 the loss was 46.942581, best 44.014832\n",
            "in attempt 18 the loss was 46.484501, best 44.014832\n",
            "in attempt 19 the loss was 47.075739, best 44.014832\n",
            "in attempt 20 the loss was 45.324535, best 44.014832\n",
            "in attempt 21 the loss was 47.224762, best 44.014832\n",
            "in attempt 22 the loss was 46.655275, best 44.014832\n",
            "in attempt 23 the loss was 48.465677, best 44.014832\n",
            "in attempt 24 the loss was 46.899517, best 44.014832\n",
            "in attempt 25 the loss was 48.227560, best 44.014832\n",
            "in attempt 26 the loss was 45.357075, best 44.014832\n",
            "in attempt 27 the loss was 46.321857, best 44.014832\n",
            "in attempt 28 the loss was 46.635299, best 44.014832\n",
            "in attempt 29 the loss was 47.653481, best 44.014832\n",
            "in attempt 30 the loss was 47.960408, best 44.014832\n",
            "in attempt 31 the loss was 47.495118, best 44.014832\n",
            "in attempt 32 the loss was 45.294309, best 44.014832\n",
            "in attempt 33 the loss was 48.189714, best 44.014832\n",
            "in attempt 34 the loss was 45.222836, best 44.014832\n",
            "in attempt 35 the loss was 46.404730, best 44.014832\n",
            "in attempt 36 the loss was 46.082638, best 44.014832\n",
            "in attempt 37 the loss was 45.314834, best 44.014832\n",
            "in attempt 38 the loss was 47.329577, best 44.014832\n",
            "in attempt 39 the loss was 48.118876, best 44.014832\n",
            "in attempt 40 the loss was 43.731681, best 43.731681\n",
            "in attempt 41 the loss was 45.850910, best 43.731681\n",
            "in attempt 42 the loss was 46.224816, best 43.731681\n",
            "in attempt 43 the loss was 45.236261, best 43.731681\n",
            "in attempt 44 the loss was 46.187476, best 43.731681\n",
            "in attempt 45 the loss was 46.228187, best 43.731681\n",
            "in attempt 46 the loss was 46.652078, best 43.731681\n",
            "in attempt 47 the loss was 48.288363, best 43.731681\n",
            "in attempt 48 the loss was 45.949546, best 43.731681\n",
            "in attempt 49 the loss was 46.282318, best 43.731681\n",
            "in attempt 50 the loss was 48.741176, best 43.731681\n",
            "in attempt 51 the loss was 46.433626, best 43.731681\n",
            "in attempt 52 the loss was 45.337121, best 43.731681\n",
            "in attempt 53 the loss was 46.179255, best 43.731681\n",
            "in attempt 54 the loss was 45.027106, best 43.731681\n",
            "in attempt 55 the loss was 46.830455, best 43.731681\n",
            "in attempt 56 the loss was 47.922536, best 43.731681\n",
            "in attempt 57 the loss was 47.500152, best 43.731681\n",
            "in attempt 58 the loss was 45.394822, best 43.731681\n",
            "in attempt 59 the loss was 47.902110, best 43.731681\n",
            "in attempt 60 the loss was 45.599388, best 43.731681\n",
            "in attempt 61 the loss was 45.226667, best 43.731681\n",
            "in attempt 62 the loss was 46.197650, best 43.731681\n",
            "in attempt 63 the loss was 44.993718, best 43.731681\n",
            "in attempt 64 the loss was 44.465129, best 43.731681\n",
            "in attempt 65 the loss was 46.031694, best 43.731681\n",
            "in attempt 66 the loss was 45.876431, best 43.731681\n",
            "in attempt 67 the loss was 46.432806, best 43.731681\n",
            "in attempt 68 the loss was 42.822287, best 42.822287\n",
            "in attempt 69 the loss was 46.429641, best 42.822287\n",
            "in attempt 70 the loss was 46.725945, best 42.822287\n",
            "in attempt 71 the loss was 45.064637, best 42.822287\n",
            "in attempt 72 the loss was 45.900029, best 42.822287\n",
            "in attempt 73 the loss was 45.304412, best 42.822287\n",
            "in attempt 74 the loss was 47.330752, best 42.822287\n",
            "in attempt 75 the loss was 47.814634, best 42.822287\n",
            "in attempt 76 the loss was 47.323860, best 42.822287\n",
            "in attempt 77 the loss was 43.234611, best 42.822287\n",
            "in attempt 78 the loss was 45.899594, best 42.822287\n",
            "in attempt 79 the loss was 46.145439, best 42.822287\n",
            "in attempt 80 the loss was 46.579434, best 42.822287\n",
            "in attempt 81 the loss was 43.827226, best 42.822287\n",
            "in attempt 82 the loss was 45.163320, best 42.822287\n",
            "in attempt 83 the loss was 44.312385, best 42.822287\n",
            "in attempt 84 the loss was 46.769137, best 42.822287\n",
            "in attempt 85 the loss was 48.366580, best 42.822287\n",
            "in attempt 86 the loss was 45.277295, best 42.822287\n",
            "in attempt 87 the loss was 45.582458, best 42.822287\n",
            "in attempt 88 the loss was 47.752135, best 42.822287\n",
            "in attempt 89 the loss was 44.727401, best 42.822287\n",
            "in attempt 90 the loss was 44.517286, best 42.822287\n",
            "in attempt 91 the loss was 44.237556, best 42.822287\n",
            "in attempt 92 the loss was 47.342394, best 42.822287\n",
            "in attempt 93 the loss was 48.292048, best 42.822287\n",
            "in attempt 94 the loss was 46.130131, best 42.822287\n",
            "in attempt 95 the loss was 46.697632, best 42.822287\n",
            "in attempt 96 the loss was 48.244079, best 42.822287\n",
            "in attempt 97 the loss was 48.025341, best 42.822287\n",
            "in attempt 98 the loss was 47.129811, best 42.822287\n",
            "in attempt 99 the loss was 47.310947, best 42.822287\n"
          ]
        }
      ]
    },
    {
      "cell_type": "code",
      "metadata": {
        "colab": {
          "base_uri": "https://localhost:8080/"
        },
        "id": "Y84ff2i3j8oS",
        "outputId": "bd4147a6-e77c-4823-f0cb-b06ad5db8ab9"
      },
      "source": [
        "# compute scores with best W\n",
        "scores = bestW.dot(X_test) # 10 x 10000, the class scores for all test examples\n",
        "# index with max score in each column (the predicted class)\n",
        "y_pred = np.argmax(scores, axis = 0)\n",
        "# calculate accuracy (fraction of correct predictions)\n",
        "acc = np.mean(y_pred == y_test) * 100\n",
        "print('Accuracy of classification is %f' % acc)\n"
      ],
      "execution_count": null,
      "outputs": [
        {
          "output_type": "stream",
          "name": "stdout",
          "text": [
            "Accuracy of classification is 9.070000\n"
          ]
        }
      ]
    },
    {
      "cell_type": "markdown",
      "metadata": {
        "id": "OD7PCPCtnwQP"
      },
      "source": [
        "**Strategy #3: Follow the Slope**\n",
        "\n",
        "**Simple Example of Analytical Computation of the Gradient**"
      ]
    },
    {
      "cell_type": "markdown",
      "metadata": {
        "id": "b65rV4mA4J0t"
      },
      "source": [
        "1.  Plotting the loss function $L(w)=w^2$ at some values"
      ]
    },
    {
      "cell_type": "code",
      "metadata": {
        "colab": {
          "base_uri": "https://localhost:8080/",
          "height": 279
        },
        "id": "Vx83KbcisCJj",
        "outputId": "aacbea51-280e-4e6d-a5e5-b139c0e7ddaa"
      },
      "source": [
        "# plot of simple function\n",
        "from numpy import arange\n",
        "from matplotlib import pyplot\n",
        " \n",
        "# loss function L\n",
        "def loss_fn(w):\n",
        "\treturn w**2.0\n",
        " \n",
        "# define range for input\n",
        "w_min, w_max = -6.0, 6.0\n",
        "weights = arange(w_min, w_max+0.1, 0.1)\n",
        "\n",
        "# compute values of loss function at given weights\n",
        "loss_values = loss_fn(weights)\n",
        "\n",
        "# create a line plot of weights vs loss\n",
        "pyplot.plot(weights, loss_values)\n",
        "pyplot.xlabel('weights')\n",
        "pyplot.ylabel('loss')\n",
        "# show the plot\n",
        "pyplot.show()"
      ],
      "execution_count": null,
      "outputs": [
        {
          "output_type": "display_data",
          "data": {
            "image/png": "[encoded data removed]",
            "text/plain": [
              "<Figure size 432x288 with 1 Axes>"
            ]
          },
          "metadata": {
            "needs_background": "light"
          }
        }
      ]
    },
    {
      "cell_type": "markdown",
      "metadata": {
        "id": "-5AiQWTI4SO_"
      },
      "source": [
        "2.  Implementing Gradient Descent Algorithm"
      ]
    },
    {
      "cell_type": "code",
      "metadata": {
        "colab": {
          "base_uri": "https://localhost:8080/"
        },
        "id": "y8kwYPcW3AUn",
        "outputId": "5055d58d-897e-4f0d-800c-956ef07f058a"
      },
      "source": [
        "# loss function L\n",
        "def loss_fn(w):\n",
        "\treturn w**2.0\n",
        "\n",
        "# the gradient function delta\n",
        "def eval_delta_fn(w):\n",
        "\treturn w * 2.0\n",
        "\n",
        "# gradient descent algorithm\n",
        "def gradient_descent(loss_fn, eval_delta_fn, n_iter, step_size):\n",
        "\t# generate an initial point\n",
        "\tweights = 3\n",
        " \t# run the gradient descent\n",
        "\tfor i in range(n_iter):\n",
        "\t\t# calculate gradient\n",
        "\t\tgradient = eval_delta_fn(weights)\n",
        "\t\t# take a step\n",
        "\t\tweights = weights - step_size * gradient\n",
        "\t\t# evaluate loss at candidate weight\n",
        "\t\tweights_eval = loss_fn(weights)\n",
        "\t\t# report progress\n",
        "\t\tprint('>%d L(%s) = %.5f' % (i, weights, weights_eval))\n",
        "\treturn [weights, weights_eval]\n",
        " \n",
        "# define range for input\n",
        "bounds = np.asarray([[-6.0, 6.0]])\n",
        "# define the total iterations\n",
        "n_iter = 35\n",
        "# define the step size\n",
        "step_size = 0.1\n",
        "# perform the gradient descent search\n",
        "bestW, loss_bestW = gradient_descent(loss_fn, eval_delta_fn, n_iter, step_size)\n",
        "print('Done!')\n",
        "print('L(%s) = %f' % (bestW, loss_bestW))"
      ],
      "execution_count": null,
      "outputs": [
        {
          "output_type": "stream",
          "name": "stdout",
          "text": [
            ">0 L(2.4) = 5.76000\n",
            ">1 L(1.92) = 3.68640\n",
            ">2 L(1.536) = 2.35930\n",
            ">3 L(1.2288000000000001) = 1.50995\n",
            ">4 L(0.9830400000000001) = 0.96637\n",
            ">5 L(0.7864320000000001) = 0.61848\n",
            ">6 L(0.6291456000000001) = 0.39582\n",
            ">7 L(0.5033164800000001) = 0.25333\n",
            ">8 L(0.40265318400000005) = 0.16213\n",
            ">9 L(0.32212254720000005) = 0.10376\n",
            ">10 L(0.25769803776000005) = 0.06641\n",
            ">11 L(0.20615843020800004) = 0.04250\n",
            ">12 L(0.16492674416640002) = 0.02720\n",
            ">13 L(0.13194139533312002) = 0.01741\n",
            ">14 L(0.10555311626649602) = 0.01114\n",
            ">15 L(0.08444249301319681) = 0.00713\n",
            ">16 L(0.06755399441055746) = 0.00456\n",
            ">17 L(0.05404319552844596) = 0.00292\n",
            ">18 L(0.04323455642275677) = 0.00187\n",
            ">19 L(0.03458764513820541) = 0.00120\n",
            ">20 L(0.02767011611056433) = 0.00077\n",
            ">21 L(0.022136092888451465) = 0.00049\n",
            ">22 L(0.017708874310761173) = 0.00031\n",
            ">23 L(0.014167099448608939) = 0.00020\n",
            ">24 L(0.011333679558887151) = 0.00013\n",
            ">25 L(0.009066943647109721) = 0.00008\n",
            ">26 L(0.007253554917687777) = 0.00005\n",
            ">27 L(0.005802843934150222) = 0.00003\n",
            ">28 L(0.004642275147320177) = 0.00002\n",
            ">29 L(0.003713820117856142) = 0.00001\n",
            ">30 L(0.0029710560942849138) = 0.00001\n",
            ">31 L(0.002376844875427931) = 0.00001\n",
            ">32 L(0.0019014759003423449) = 0.00000\n",
            ">33 L(0.001521180720273876) = 0.00000\n",
            ">34 L(0.0012169445762191008) = 0.00000\n",
            "Done!\n",
            "L(0.0012169445762191008) = 0.000001\n"
          ]
        }
      ]
    },
    {
      "cell_type": "markdown",
      "metadata": {
        "id": "hWWTmwjG9Q0d"
      },
      "source": [
        "3.  Explore the learning rate (step size)\n",
        "\n",
        "**See effects of various learning rates especially very small (1e-5) and very big (1.0)**"
      ]
    },
    {
      "cell_type": "markdown",
      "metadata": {
        "id": "ru9NQShr-1Eh"
      },
      "source": [
        "4.  We can store all the weights and loss computed at those weights to visualize"
      ]
    },
    {
      "cell_type": "code",
      "metadata": {
        "colab": {
          "base_uri": "https://localhost:8080/",
          "height": 853
        },
        "id": "IFB-rPH-9bmN",
        "outputId": "d5acef4b-256f-498c-8d01-84dc951b8b08"
      },
      "source": [
        "# loss function L\n",
        "def loss_fn(w):\n",
        "\treturn w**2.0\n",
        "\n",
        "# the gradient function delta\n",
        "def eval_delta_fn(w):\n",
        "\treturn w * 2.0\n",
        "\n",
        "# gradient descent algorithm\n",
        "def gradient_descent(loss_fn, eval_delta_fn, bounds, n_iter, step_size):\n",
        "  # track all solutions\n",
        "\tweights_list, weights_eval_list = list(), list()\n",
        "\t# generate an initial point\n",
        "\tweights = -5\n",
        "  # bounds[:, 0] + np.random.rand(len(bounds)) * (bounds[:, 1] - bounds[:, 0])\n",
        "\t# run the gradient descent\n",
        "\tfor i in range(n_iter):\n",
        "\t\t# calculate gradient\n",
        "\t\tgradient = eval_delta_fn(weights)\n",
        "\t\t# take a step\n",
        "\t\tweights = weights - step_size * gradient\n",
        "\t\t# evaluate loss at candidate weight\n",
        "\t\tweights_eval = loss_fn(weights)\n",
        "    # store solution\n",
        "\t\tweights_list.append(weights)\n",
        "\t\tweights_eval_list.append(weights_eval)\n",
        "\t\t# report progress\n",
        "\t\tprint('>%d L(%s) = %.5f' % (i, weights, weights_eval))\n",
        "\treturn [weights_list, weights_eval_list]\n",
        " \n",
        "# define range for input\n",
        "bounds = np.asarray([[-6.0, 6.0]])\n",
        "# define the total iterations\n",
        "n_iter = 35\n",
        "# define the step size\n",
        "step_size = 0.1\n",
        "# perform the gradient descent search\n",
        "weights_list, weights_eval_list = gradient_descent(loss_fn, eval_delta_fn, bounds, n_iter, step_size)\n",
        "\n",
        "# sample input range uniformly at 0.1 increments\n",
        "input_w = arange(bounds[0,0], bounds[0,1]+0.1, 0.1)\n",
        "# compute values of loss function at given weights\n",
        "loss_values = loss_fn(input_w)\n",
        "# create a line plot of input vs result\n",
        "pyplot.plot(input_w, loss_values)\n",
        "# plot the solutions found\n",
        "pyplot.plot(weights_list, weights_eval_list, '.-', color='red')\n",
        "# show the plot\n",
        "pyplot.show()"
      ],
      "execution_count": null,
      "outputs": [
        {
          "output_type": "stream",
          "name": "stdout",
          "text": [
            ">0 L(-4.0) = 16.00000\n",
            ">1 L(-3.2) = 10.24000\n",
            ">2 L(-2.56) = 6.55360\n",
            ">3 L(-2.048) = 4.19430\n",
            ">4 L(-1.6384) = 2.68435\n",
            ">5 L(-1.31072) = 1.71799\n",
            ">6 L(-1.0485760000000002) = 1.09951\n",
            ">7 L(-0.8388608000000002) = 0.70369\n",
            ">8 L(-0.6710886400000001) = 0.45036\n",
            ">9 L(-0.5368709120000001) = 0.28823\n",
            ">10 L(-0.4294967296000001) = 0.18447\n",
            ">11 L(-0.3435973836800001) = 0.11806\n",
            ">12 L(-0.27487790694400005) = 0.07556\n",
            ">13 L(-0.21990232555520003) = 0.04836\n",
            ">14 L(-0.17592186044416003) = 0.03095\n",
            ">15 L(-0.140737488355328) = 0.01981\n",
            ">16 L(-0.11258999068426241) = 0.01268\n",
            ">17 L(-0.09007199254740993) = 0.00811\n",
            ">18 L(-0.07205759403792794) = 0.00519\n",
            ">19 L(-0.057646075230342354) = 0.00332\n",
            ">20 L(-0.04611686018427388) = 0.00213\n",
            ">21 L(-0.03689348814741911) = 0.00136\n",
            ">22 L(-0.029514790517935284) = 0.00087\n",
            ">23 L(-0.02361183241434823) = 0.00056\n",
            ">24 L(-0.018889465931478583) = 0.00036\n",
            ">25 L(-0.015111572745182867) = 0.00023\n",
            ">26 L(-0.012089258196146294) = 0.00015\n",
            ">27 L(-0.009671406556917036) = 0.00009\n",
            ">28 L(-0.007737125245533628) = 0.00006\n",
            ">29 L(-0.006189700196426903) = 0.00004\n",
            ">30 L(-0.004951760157141522) = 0.00002\n",
            ">31 L(-0.003961408125713218) = 0.00002\n",
            ">32 L(-0.0031691265005705745) = 0.00001\n",
            ">33 L(-0.00253530120045646) = 0.00001\n",
            ">34 L(-0.0020282409603651678) = 0.00000\n"
          ]
        },
        {
          "output_type": "display_data",
          "data": {
            "image/png": "[encoded data removed]",
            "text/plain": [
              "<Figure size 432x288 with 1 Axes>"
            ]
          },
          "metadata": {
            "needs_background": "light"
          }
        }
      ]
    }
  ]
}