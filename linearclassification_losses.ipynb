{
  "nbformat": 4,
  "nbformat_minor": 0,
  "metadata": {
    "colab": {
      "name": "linearclassification_losses.ipynb",
      "provenance": [],
      "collapsed_sections": [],
      "authorship_tag": "ABX9TyOLlt4z/hqKOh+SaTigYW6B",
      "include_colab_link": true
    },
    "kernelspec": {
      "name": "python3",
      "display_name": "Python 3"
    },
    "language_info": {
      "name": "python"
    }
  },
  "cells": [
    {
      "cell_type": "markdown",
      "metadata": {
        "id": "view-in-github",
        "colab_type": "text"
      },
      "source": [
        "<a href=\"https://colab.research.google.com/github/aasem/cvisionmcs/blob/main/linearclassification_losses.ipynb\" target=\"_parent\"><img src=\"https://colab.research.google.com/assets/colab-badge.svg\" alt=\"Open In Colab\"/></a>"
      ]
    },
    {
      "cell_type": "markdown",
      "metadata": {
        "id": "I4kgUwBthkRl"
      },
      "source": [
        "## Linear Classification (SVM and Softmax) for CIFAR10 Dataset\n",
        "**Preliminary Stuff - Definitions, Data Access and Visualization**\n"
      ]
    },
    {
      "cell_type": "code",
      "metadata": {
        "id": "FsX3mZLlZO9R",
        "colab": {
          "base_uri": "https://localhost:8080/"
        },
        "outputId": "6c89f44e-31bd-4b65-c5e6-34aa35a83f25"
      },
      "source": [
        "!git clone https://github.com/aasem/cvisionmcs\n",
        "# Definitions\n",
        "import numpy as np\n",
        "import matplotlib.pyplot as plt\n",
        "import sys\n",
        "# sys.path.append('/content/cvisionmcs')\n",
        "from cvisionmcs import data_utils\n",
        "from cvisionmcs import download\n",
        "%matplotlib inline"
      ],
      "execution_count": 16,
      "outputs": [
        {
          "output_type": "stream",
          "name": "stdout",
          "text": [
            "fatal: destination path 'cvisionmcs' already exists and is not an empty directory.\n"
          ]
        }
      ]
    },
    {
      "cell_type": "markdown",
      "metadata": {
        "id": "MmNsgC83HqvC"
      },
      "source": [
        "**Downloading the Dataset**"
      ]
    },
    {
      "cell_type": "code",
      "metadata": {
        "colab": {
          "base_uri": "https://localhost:8080/"
        },
        "id": "OL_b7_XVwK4a",
        "outputId": "35c03bf6-8313-48c6-9ac1-f2e50ebf610e"
      },
      "source": [
        "url = \"https://www.cs.toronto.edu/~kriz/cifar-10-python.tar.gz\"\n",
        "download_dir = \"./data\"\n",
        "download.maybe_download_and_extract(url,download_dir)"
      ],
      "execution_count": 17,
      "outputs": [
        {
          "output_type": "stream",
          "name": "stdout",
          "text": [
            "Data has apparently already been downloaded and unpacked.\n"
          ]
        }
      ]
    },
    {
      "cell_type": "markdown",
      "metadata": {
        "id": "4TaV13AOIIj5"
      },
      "source": [
        "**Converting Raw Files into Training and Test Datasets**"
      ]
    },
    {
      "cell_type": "code",
      "metadata": {
        "id": "-CD2gZC33DEX",
        "colab": {
          "base_uri": "https://localhost:8080/"
        },
        "outputId": "5f0ecbda-f5fe-411a-a7dd-8b1f7b2c7037"
      },
      "source": [
        "cifar10_dir = './data/cifar-10-batches-py'\n",
        "X_train, y_train, X_test, y_test = data_utils.load_CIFAR10(cifar10_dir)\n",
        "\n",
        "# Checking the size of the training and testing data\n",
        "print('Training data shape: ', X_train.shape)\n",
        "print('Training labels shape: ', y_train.shape)\n",
        "print('Test data shape: ', X_test.shape)\n",
        "print('Test labels shape: ', y_test.shape)"
      ],
      "execution_count": 18,
      "outputs": [
        {
          "output_type": "stream",
          "name": "stdout",
          "text": [
            "Training data shape:  (50000, 32, 32, 3)\n",
            "Training labels shape:  (50000,)\n",
            "Test data shape:  (10000, 32, 32, 3)\n",
            "Test labels shape:  (10000,)\n"
          ]
        }
      ]
    },
    {
      "cell_type": "markdown",
      "metadata": {
        "id": "qp8c0U0k7sVi"
      },
      "source": [
        "**Reshaping and Appending the Bias**"
      ]
    },
    {
      "cell_type": "code",
      "metadata": {
        "colab": {
          "base_uri": "https://localhost:8080/"
        },
        "id": "DW1PRxNCI9RU",
        "outputId": "7d413ca1-d360-44c8-c2dc-ab737f92e0d1"
      },
      "source": [
        "# reshaping data and placing into rows\n",
        "X_train = np.reshape(X_train, (X_train.shape[0], -1))\n",
        "X_test = np.reshape(X_test, (X_test.shape[0], -1))\n",
        "print(X_train.shape, X_test.shape)"
      ],
      "execution_count": 19,
      "outputs": [
        {
          "output_type": "stream",
          "name": "stdout",
          "text": [
            "(50000, 3072) (10000, 3072)\n"
          ]
        }
      ]
    },
    {
      "cell_type": "code",
      "metadata": {
        "colab": {
          "base_uri": "https://localhost:8080/"
        },
        "id": "pgLREZhWZmf3",
        "outputId": "e7993e58-fa9d-4819-d474-e39826ac5e0d"
      },
      "source": [
        "# append 1 in the last column to cater for bias and transform into columns\n",
        "X_train = np.append(X_train, np.ones((X_train.shape[0],1)), axis=1)\n",
        "X_test = np.append(X_test, np.ones((X_test.shape[0],1)), axis=1)\n",
        "X_train = np.transpose(X_train)\n",
        "X_test = np.transpose(X_test)\n",
        "print(X_train.shape, X_test.shape)"
      ],
      "execution_count": 20,
      "outputs": [
        {
          "output_type": "stream",
          "name": "stdout",
          "text": [
            "(3073, 50000) (3073, 10000)\n"
          ]
        }
      ]
    },
    {
      "cell_type": "markdown",
      "metadata": {
        "id": "24-YR67N0Rgn"
      },
      "source": [
        "**Computing SVM Loss**\n",
        "\n"
      ]
    },
    {
      "cell_type": "code",
      "metadata": {
        "id": "3bpeqeBrQ5jo"
      },
      "source": [
        "def loss_svm(W, X, y, reg):\n",
        "    \"\"\"\n",
        "    Compute the SVM loss.\n",
        "    \n",
        "    Input Parameters\n",
        "    ----------\n",
        "    W: (K, D) array of weights, K is the number of classes and D is the dimension of one sample.\n",
        "    X: (D, N) array of training data, each column is a training sample with D-dimension.\n",
        "    y: (N, ) 1-dimension array of target data with length N with lables 0,1, ... K-1, for K classes\n",
        "    reg: (float) regularization strength for optimization.\n",
        "\n",
        "    Returns\n",
        "    -------\n",
        "    loss: (float)\n",
        "    \"\"\"\n",
        "    \n",
        "    # initialization\n",
        "    dW = np.zeros(W.shape)\n",
        "    loss = 0.0\n",
        "    delta = 1.0\n",
        "    num_train = y.shape[0]\n",
        "\n",
        "    # compute all scores\n",
        "    scores = W.dot(X) # [C x N] matrix\n",
        " \n",
        "    # get the correct class score \n",
        "    correct_class_score = scores[y, range(num_train)] # [1 x N]\n",
        "    \n",
        "    margins = scores - correct_class_score + delta # [C x N]\n",
        "\n",
        "    # threshold the score to max(0, -)\n",
        "    margins = np.maximum(0, margins)\n",
        "    margins[y, range(num_train)] = 0\n",
        "\n",
        "    loss = np.sum(margins) / num_train\n",
        "\n",
        "    # add regularization to loss\n",
        "    loss += 0.5 * reg * np.sum(W * W)\n",
        "   \n",
        "    return loss"
      ],
      "execution_count": 28,
      "outputs": []
    },
    {
      "cell_type": "markdown",
      "metadata": {
        "id": "vWi6HhYi_L6e"
      },
      "source": [
        "**Computing SVM Loss**\n"
      ]
    },
    {
      "cell_type": "code",
      "metadata": {
        "id": "YA39Dvp__ajX"
      },
      "source": [
        "def loss_softmax(W, X, y, reg):\n",
        "    \"\"\" Compute the softmax loss\n",
        "    \n",
        "    Input Parameters\n",
        "    ----------\n",
        "    W: (K, D) array of weights, K is the number of classes and D is the dimension of one sample.\n",
        "    X: (D, N) array of training data, each column is a training sample with D-dimension.\n",
        "    y: (N, ) 1-dimension array of target data with length N with lables 0,1, ... K-1, for K classes\n",
        "    reg: (float) regularization strength for optimization.\n",
        "    \n",
        "    Returns\n",
        "    -------\n",
        "    loss: (float)\n",
        "    \"\"\"\n",
        "    loss = 0 \n",
        "    grad = np.zeros_like(W)\n",
        "    dim, num_train = X.shape\n",
        "\n",
        "    scores = W.dot(X) # [K, N]\n",
        "    # Shift scores so that the highest value is 0\n",
        "    scores -= np.max(scores)\n",
        "    scores_exp = np.exp(scores)\n",
        "    correct_scores_exp = scores_exp[y, range(num_train)] # [N, ]\n",
        "    scores_exp_sum = np.sum(scores_exp, axis=0) # [N, ]\n",
        "    loss = -np.sum(np.log(correct_scores_exp / scores_exp_sum))\n",
        "    loss /= num_train\n",
        "    loss += 0.5 * reg * np.sum(W * W)\n",
        "\n",
        "    return loss"
      ],
      "execution_count": 29,
      "outputs": []
    },
    {
      "cell_type": "code",
      "metadata": {
        "colab": {
          "base_uri": "https://localhost:8080/"
        },
        "id": "UdYMUDuTg3R4",
        "outputId": "910d254d-81cb-44db-b98d-44cacf338b62"
      },
      "source": [
        "import time\n",
        "# generate a rand weights W \n",
        "W = np.random.randn(10, X_train.shape[0]) * 0.001\n",
        "tic = time.time()\n",
        "loss_svm = loss_svm(W, X_train, y_train, 0)\n",
        "toc = time.time()\n",
        "print('SVM loss: %f; Computed in: %fs' % (loss_svm, toc - tic))"
      ],
      "execution_count": 30,
      "outputs": [
        {
          "output_type": "stream",
          "name": "stdout",
          "text": [
            "SVM loss: 38.723339; Computed in: 0.519478s\n"
          ]
        }
      ]
    },
    {
      "cell_type": "code",
      "metadata": {
        "colab": {
          "base_uri": "https://localhost:8080/"
        },
        "id": "plUOhdxlBPp3",
        "outputId": "39a015e6-ab23-4e48-fff2-4fa805766a86"
      },
      "source": [
        "# generate a rand weights W \n",
        "W = np.random.randn(10, X_train.shape[0]) * 0.001\n",
        "tic = time.time()\n",
        "loss_softmax = loss_softmax(W, X_train, y_train, 0.0001)\n",
        "toc = time.time()\n",
        "print ('Softmax loss: %f; Computed in %fs' % (loss_softmax, toc - tic))"
      ],
      "execution_count": 31,
      "outputs": [
        {
          "output_type": "stream",
          "name": "stdout",
          "text": [
            "Softmax loss: 10.346303; Computed in 0.538426s\n"
          ]
        }
      ]
    }
  ]
}