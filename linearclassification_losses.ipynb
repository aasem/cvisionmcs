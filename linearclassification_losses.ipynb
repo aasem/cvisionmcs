{
  "nbformat": 4,
  "nbformat_minor": 0,
  "metadata": {
    "colab": {
      "name": "linearclassification_losses.ipynb",
      "provenance": [],
      "collapsed_sections": [],
      "authorship_tag": "ABX9TyODbOlewJA/e+M3MzU2m7fS",
      "include_colab_link": true
    },
    "kernelspec": {
      "name": "python3",
      "display_name": "Python 3"
    },
    "language_info": {
      "name": "python"
    }
  },
  "cells": [
    {
      "cell_type": "markdown",
      "metadata": {
        "id": "view-in-github",
        "colab_type": "text"
      },
      "source": [
        "<a href=\"https://colab.research.google.com/github/aasem/cvisionmcs/blob/main/linearclassification_losses.ipynb\" target=\"_parent\"><img src=\"https://colab.research.google.com/assets/colab-badge.svg\" alt=\"Open In Colab\"/></a>"
      ]
    },
    {
      "cell_type": "markdown",
      "metadata": {
        "id": "I4kgUwBthkRl"
      },
      "source": [
        "## Linear Classification (SVM and Softmax) for CIFAR10 Dataset\n",
        "**Preliminary Stuff - Definitions, Data Access and Visualization**\n"
      ]
    },
    {
      "cell_type": "code",
      "metadata": {
        "id": "FsX3mZLlZO9R",
        "colab": {
          "base_uri": "https://localhost:8080/"
        },
        "outputId": "50195eaf-7926-43fb-800e-27bf38310395"
      },
      "source": [
        "!git clone https://github.com/aasem/cvisionmcs\n",
        "# Definitions\n",
        "import numpy as np\n",
        "import matplotlib.pyplot as plt\n",
        "import sys\n",
        "# sys.path.append('/content/cvisionmcs')\n",
        "from cvisionmcs import data_utils\n",
        "from cvisionmcs import download\n",
        "%matplotlib inline"
      ],
      "execution_count": 8,
      "outputs": [
        {
          "output_type": "stream",
          "name": "stdout",
          "text": [
            "fatal: destination path 'cvisionmcs' already exists and is not an empty directory.\n"
          ]
        }
      ]
    },
    {
      "cell_type": "markdown",
      "metadata": {
        "id": "MmNsgC83HqvC"
      },
      "source": [
        "**Downloading the Dataset**"
      ]
    },
    {
      "cell_type": "code",
      "metadata": {
        "colab": {
          "base_uri": "https://localhost:8080/"
        },
        "id": "OL_b7_XVwK4a",
        "outputId": "541e38c4-4e4d-47a2-d0ad-f1748869dabf"
      },
      "source": [
        "url = \"https://www.cs.toronto.edu/~kriz/cifar-10-python.tar.gz\"\n",
        "download_dir = \"./data\"\n",
        "download.maybe_download_and_extract(url,download_dir)"
      ],
      "execution_count": 9,
      "outputs": [
        {
          "output_type": "stream",
          "name": "stdout",
          "text": [
            "Data has apparently already been downloaded and unpacked.\n"
          ]
        }
      ]
    },
    {
      "cell_type": "markdown",
      "metadata": {
        "id": "4TaV13AOIIj5"
      },
      "source": [
        "**Converting Raw Files into Training and Test Datasets**"
      ]
    },
    {
      "cell_type": "code",
      "metadata": {
        "id": "-CD2gZC33DEX",
        "colab": {
          "base_uri": "https://localhost:8080/"
        },
        "outputId": "6961a4dc-49cb-4794-c8b0-b4e76c505ad7"
      },
      "source": [
        "cifar10_dir = './data/cifar-10-batches-py'\n",
        "X_train, y_train, X_test, y_test = data_utils.load_CIFAR10(cifar10_dir)\n",
        "\n",
        "# Checking the size of the training and testing data\n",
        "print('Training data shape: ', X_train.shape)\n",
        "print('Training labels shape: ', y_train.shape)\n",
        "print('Test data shape: ', X_test.shape)\n",
        "print('Test labels shape: ', y_test.shape)"
      ],
      "execution_count": 25,
      "outputs": [
        {
          "output_type": "stream",
          "name": "stdout",
          "text": [
            "Training data shape:  (50000, 32, 32, 3)\n",
            "Training labels shape:  (50000,)\n",
            "Test data shape:  (10000, 32, 32, 3)\n",
            "Test labels shape:  (10000,)\n"
          ]
        }
      ]
    },
    {
      "cell_type": "markdown",
      "metadata": {
        "id": "qp8c0U0k7sVi"
      },
      "source": [
        "**Reshaping and Appending the Bias**"
      ]
    },
    {
      "cell_type": "code",
      "metadata": {
        "colab": {
          "base_uri": "https://localhost:8080/"
        },
        "id": "DW1PRxNCI9RU",
        "outputId": "f5344f2a-4737-48f9-9142-7c1b5c034eb3"
      },
      "source": [
        "# reshaping data and placing into rows\n",
        "X_train = np.reshape(X_train, (X_train.shape[0], -1))\n",
        "X_test = np.reshape(X_test, (X_test.shape[0], -1))\n",
        "print(X_train.shape, X_test.shape)"
      ],
      "execution_count": 26,
      "outputs": [
        {
          "output_type": "stream",
          "name": "stdout",
          "text": [
            "(50000, 3072) (10000, 3072)\n"
          ]
        }
      ]
    },
    {
      "cell_type": "code",
      "metadata": {
        "colab": {
          "base_uri": "https://localhost:8080/"
        },
        "id": "pgLREZhWZmf3",
        "outputId": "ffc1b9b7-7200-4470-d8cb-bacce0c902a2"
      },
      "source": [
        "# append 1 in the last column to cater for bias and transform into columns\n",
        "X_train = np.append(X_train, np.ones((X_train.shape[0],1)), axis=1)\n",
        "X_test = np.append(X_test, np.ones((X_test.shape[0],1)), axis=1)\n",
        "X_train = np.transpose(X_train)\n",
        "X_test = np.transpose(X_test)\n",
        "print(X_train.shape, X_test.shape)"
      ],
      "execution_count": 27,
      "outputs": [
        {
          "output_type": "stream",
          "name": "stdout",
          "text": [
            "(3073, 50000) (3073, 10000)\n"
          ]
        }
      ]
    },
    {
      "cell_type": "markdown",
      "metadata": {
        "id": "24-YR67N0Rgn"
      },
      "source": [
        "**Computing SVM Loss**\n",
        "\n",
        "The loss for $i$th example is given by:\n",
        "\n",
        "$$L_i = \\sum_{j\\neq y_i} \\max(0, s_j - s_{y_i} + \\Delta)$$\n",
        "\n",
        "where $s_j$ is the score for $j$th class and $s_{y_i}$ is the score for the true class $y_i$. For a linear classifier\n",
        "\n",
        "$$s_j = \\mathbf{W}x_{i}+b$$ which is reduced to\n",
        "\n",
        "$$s_j = \\mathbf{W}x_{i}$$\n",
        "\n",
        "if we embed the bias $b$ with in the weight matrix $\\mathbf{W}$. We keep  $\\Delta = 1$ as a fixed parameter. If we sum all losses over all examples and add the regularization factor, the total loss becomes:\n",
        "\n",
        "$$L=\\underbrace{\\frac{1}{N}\\sum_{i}L_{i}}_{\\text{data loss}}+\\underbrace{\\lambda R(\\mathbf{W})}_{\\text{regularization loss}}$$\n",
        "\n",
        "where\n",
        "\n",
        "$$R(\\mathbf{W}) = \\sum_k\\sum_l\\mathbf{W}_{k,l}^2$$\n",
        "\n",
        "and $\\lambda$ is a hyperparameter chosen during validation.\n"
      ]
    },
    {
      "cell_type": "code",
      "metadata": {
        "id": "3bpeqeBrQ5jo"
      },
      "source": [
        "def loss_svm(W, X, y, r_lambda):\n",
        "    \"\"\"\n",
        "    Compute the SVM loss.\n",
        "    \n",
        "    Input Parameters\n",
        "    ----------\n",
        "    W: (K, D+1) array of weights, K is the number of classes and D is the dimension of one sample plus bias\n",
        "    X: (D+1, N) array of training data, each column is a training sample with D-dimension plus bias\n",
        "    y: (N, ) 1-dimension array of target data with length N with lables 0,1, ... K-1, for K classes\n",
        "    r_lambda: (float) regularization strength for optimization.\n",
        "\n",
        "    Returns\n",
        "    -------\n",
        "    loss: (float)\n",
        "    \"\"\"\n",
        "    \n",
        "    # initialization\n",
        "    loss = 0.0\n",
        "    delta = 1.0\n",
        "    N = y.shape[0]\n",
        "\n",
        "    # compute all scores s_j\n",
        "    scores = W.dot(X) # [K x N] matrix\n",
        " \n",
        "    # get the true class score \n",
        "    true_class_score = scores[y, range(N)] # [1 x N]\n",
        "    \n",
        "    margins = scores - true_class_score + delta # [K x N]\n",
        "\n",
        "    # threshold the margins to max(0, -)\n",
        "    margins = np.maximum(0, margins)\n",
        "    margins[y, range(N)] = 0 # neglect the true class scores\n",
        "\n",
        "    loss = np.sum(margins) / num_train\n",
        "\n",
        "    # add regularization to loss\n",
        "    loss += 0.5 * r_lambda * np.sum(W * W)\n",
        "   \n",
        "    return loss"
      ],
      "execution_count": 28,
      "outputs": []
    },
    {
      "cell_type": "markdown",
      "metadata": {
        "id": "vWi6HhYi_L6e"
      },
      "source": [
        "**Computing Softmax Loss**\n"
      ]
    },
    {
      "cell_type": "markdown",
      "metadata": {
        "id": "35329JlkXM7U"
      },
      "source": [
        "The cross-entropy (softmax) loss for $i$th example is given by:\n",
        "\n",
        "$$L_i = -\\log\\left(\\frac{e^{s_{y_i}}}{ \\sum_j e^{s_j} }\\right)$$ or equivalently\n",
        "\n",
        "$$L_i = -s_{y_i} + \\log\\sum_j e^{s_j}$$\n",
        "\n",
        "where $s_j$ is the score for $j$th class and $s_{y_i}$ is the score for the true class $y_i$. For a linear classifier\n",
        "\n",
        "$$s_j = \\mathbf{W}x_{i}+b$$ which is reduced to\n",
        "\n",
        "$$s_j = \\mathbf{W}x_{i}$$\n",
        "\n",
        "if we embed the bias $b$ with in the weight matrix $\\mathbf{W}$. We keep  $\\Delta = 1$ as a fixed parameter. If we sum all losses over all examples and add the regularization factor, the total loss becomes:\n",
        "\n",
        "$$L=\\underbrace{\\frac{1}{N}\\sum_{i}L_{i}}_{\\text{data loss}}+\\underbrace{\\lambda R(\\mathbf{W})}_{\\text{regularization loss}}$$\n",
        "\n",
        "where\n",
        "\n",
        "$$R(\\mathbf{W}) = \\sum_k\\sum_l\\mathbf{W}_{k,l}^2$$\n",
        "\n",
        "and $\\lambda$ is a hyperparameter chosen during validation."
      ]
    },
    {
      "cell_type": "code",
      "metadata": {
        "id": "YA39Dvp__ajX"
      },
      "source": [
        "def loss_softmax(W, X, y, r_lambda):\n",
        "    \"\"\" Compute the softmax loss\n",
        "    \n",
        "    Input Parameters\n",
        "    ----------\n",
        "    W: (K, D+1) array of weights, K is the number of classes and D is the dimension of one sample plus bias\n",
        "    X: (D+1, N) array of training data, each column is a training sample with D-dimension plus bias\n",
        "    y: (N, ) 1-dimension array of target data with length N with lables 0,1, ... K-1, for K classes\n",
        "    r_lambda: (float) regularization strength for optimization.\n",
        "    \n",
        "    Returns\n",
        "    -------\n",
        "    loss: (float)\n",
        "    \"\"\"\n",
        "    loss = 0\n",
        "    N = y.shape[0] \n",
        "  \n",
        "    # compute all scores s_j\n",
        "    scores = W.dot(X) # [K x N] matrix\n",
        "    # Shift scores so that the highest value is 0\n",
        "    scores -= np.max(scores)\n",
        "    scores_exp = np.exp(scores)\n",
        "    true_class_scores_exp = scores_exp[y, range(N)] # [N, ]\n",
        "    scores_exp_sum = np.sum(scores_exp, axis=0) # [N, ]\n",
        "    loss = -np.sum(np.log(true_class_scores_exp / scores_exp_sum))\n",
        "    loss /= N\n",
        "    loss += 0.5 * r_lambda * np.sum(W * W)\n",
        "\n",
        "    return loss"
      ],
      "execution_count": 29,
      "outputs": []
    },
    {
      "cell_type": "code",
      "metadata": {
        "colab": {
          "base_uri": "https://localhost:8080/"
        },
        "id": "UdYMUDuTg3R4",
        "outputId": "741fa923-3b5e-4624-e488-bfa3498bb690"
      },
      "source": [
        "import time\n",
        "# generate a rand weights W \n",
        "W = np.random.randn(10, X_train.shape[0]) * 0.001\n",
        "tic = time.time()\n",
        "svmloss = loss_svm(W, X_train, y_train, 0.0001)\n",
        "toc = time.time()\n",
        "print('SVM loss: %f; Computed in: %fs' % (svmloss, toc - tic))"
      ],
      "execution_count": 30,
      "outputs": [
        {
          "output_type": "stream",
          "name": "stdout",
          "text": [
            "SVM loss: 33.415491; Computed in: 0.309494s\n"
          ]
        }
      ]
    },
    {
      "cell_type": "code",
      "metadata": {
        "colab": {
          "base_uri": "https://localhost:8080/"
        },
        "id": "plUOhdxlBPp3",
        "outputId": "c36c6658-d797-4aa8-be5a-9e309a19a347"
      },
      "source": [
        "# generate a rand weights W \n",
        "W = np.random.randn(10, X_train.shape[0]) * 0.001\n",
        "tic = time.time()\n",
        "smaxloss = loss_softmax(W, X_train, y_train, 0.0001)\n",
        "toc = time.time()\n",
        "print ('Softmax loss: %f; Computed in %fs' % (smaxloss, toc - tic))"
      ],
      "execution_count": 31,
      "outputs": [
        {
          "output_type": "stream",
          "name": "stdout",
          "text": [
            "Softmax loss: 8.508621; Computed in 0.293414s\n"
          ]
        }
      ]
    }
  ]
}