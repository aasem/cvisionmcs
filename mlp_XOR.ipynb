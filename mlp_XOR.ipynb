{
  "nbformat": 4,
  "nbformat_minor": 0,
  "metadata": {
    "colab": {
      "name": "mlp_XOR.ipynb",
      "provenance": [],
      "collapsed_sections": [],
      "authorship_tag": "ABX9TyM4iFiAegt7N9jnRL+unSVN",
      "include_colab_link": true
    },
    "kernelspec": {
      "name": "python3",
      "display_name": "Python 3"
    },
    "language_info": {
      "name": "python"
    }
  },
  "cells": [
    {
      "cell_type": "markdown",
      "metadata": {
        "id": "view-in-github",
        "colab_type": "text"
      },
      "source": [
        "<a href=\"https://colab.research.google.com/github/aasem/cvisionmcs/blob/main/mlp_XOR.ipynb\" target=\"_parent\"><img src=\"https://colab.research.google.com/assets/colab-badge.svg\" alt=\"Open In Colab\"/></a>"
      ]
    },
    {
      "cell_type": "markdown",
      "metadata": {
        "id": "I4kgUwBthkRl"
      },
      "source": [
        "# Solving XOR (2 Layer MLP)\n"
      ]
    },
    {
      "cell_type": "markdown",
      "metadata": {
        "id": "Jh1IOWE_UMWk"
      },
      "source": [
        "**Define the inputs and expected output**"
      ]
    },
    {
      "cell_type": "code",
      "metadata": {
        "colab": {
          "base_uri": "https://localhost:8080/"
        },
        "id": "vyJn00W6Rv5s",
        "outputId": "f4bd46f2-af25-4a99-ff19-7d7f69e3a427"
      },
      "source": [
        "import numpy as np\n",
        "X = np.array([[0,0],[0,1],[1,0],[1,1]]) # input data\n",
        "Y = np.array([[0,1,1,0]]).T # target output\n",
        "print('input data:\\n', X)\n",
        "print('output data:\\n', Y)\n",
        "print('input dimension: ', np.shape(X))\n",
        "print('output dimension: ', np.shape(Y))"
      ],
      "execution_count": 2,
      "outputs": [
        {
          "output_type": "stream",
          "name": "stdout",
          "text": [
            "input data:\n",
            " [[0 0]\n",
            " [0 1]\n",
            " [1 0]\n",
            " [1 1]]\n",
            "output data:\n",
            " [[0]\n",
            " [1]\n",
            " [1]\n",
            " [0]]\n",
            "input dimension:  (4, 2)\n",
            "output dimension:  (4, 1)\n"
          ]
        }
      ]
    },
    {
      "cell_type": "markdown",
      "metadata": {
        "id": "4mCDpNHVYm0e"
      },
      "source": [
        "**Definition of Network and Backpropagation Algorithm**"
      ]
    },
    {
      "cell_type": "code",
      "metadata": {
        "id": "oolr6oDVZPzU"
      },
      "source": [
        "def cost_fn(y, t):\n",
        "  return t - y\n",
        "\n",
        "def sigmoid(x):\n",
        "    return 1/(1 + np.exp(-x))\n",
        "\n",
        "def fwdpass(X, W1, W2, b1, b2):\n",
        "  L1 = sigmoid(np.dot(X,W1) + b1)       # layer 1\n",
        "  L2 = sigmoid(np.dot(L1,W2) + b2)       # layer 2 \n",
        "  return L1, L2\n",
        "\n",
        "def sigmoid_derivative(x):\n",
        "    return x * (1 - x)\n",
        "\n",
        "def backpass(L1, L2, L2_error, W2):\n",
        "  delta_L2 = L2_error * sigmoid_derivative(L2)\n",
        "  L1_error = np.dot(delta_L2, W2.T)\n",
        "  delta_L1 = L1_error * sigmoid_derivative(L1)\n",
        "  return delta_L1, delta_L2, L1_error\n",
        "\n",
        "def init(input_size, hidden_size, output_size, seed=0):\n",
        "  init_model = {}\n",
        "  np.random.seed(seed)\n",
        "  init_model['W1'] = np.random.random((input_size, hidden_size))\n",
        "  init_model['W2'] = np.random.random((hidden_size, output_size))\n",
        "  init_model['b1'] = np.array([0]) \n",
        "  init_model['b2'] = np.array([0])\n",
        "  return init_model\n",
        "\n",
        "def train(X, Y, init_model, num_epochs, lr=1.0, seed=0):\n",
        "  final_model = {}\n",
        "  for epoch_n in range(num_epochs):\n",
        "    W1 = init_model['W1']\n",
        "    W2 = init_model['W2']\n",
        "    b1 = init_model['b1']\n",
        "    b2 = init_model['b2']\n",
        "    L1, L2 = fwdpass(X, W1, W2, b1, b2)\n",
        "    L2_error = cost_fn(L2, Y)\n",
        "    delta_L1, delta_L2, L1_error = backpass(L1, L2, L2_error, W2)\n",
        "    W2 += lr * np.dot(L1.T, delta_L2)\n",
        "    W1 += lr * np.dot(X.T, delta_L1)\n",
        "  \n",
        "  final_model['W1'] = W1\n",
        "  final_model['W2'] = W2\n",
        "  final_model['b1'] = b1\n",
        "  final_model['b2'] = b2\n",
        "  return final_model\n",
        "\n",
        "def predict(X, Y, model):\n",
        "  for x, y in zip(X, Y):\n",
        "    W1, b1 = model['W1'], model['b1']\n",
        "    W2, b2 = model['W2'], model['b2']\n",
        "    L1_prediction = sigmoid(np.dot(W1.T, x))\n",
        "    prediction = sigmoid(np.dot(W2.T, L1_prediction))\n",
        "    print('prediction = %f; ground truth = %d' % (prediction, y))"
      ],
      "execution_count": 45,
      "outputs": []
    },
    {
      "cell_type": "markdown",
      "source": [
        "**Inititialization and Training**"
      ],
      "metadata": {
        "id": "3bcFu_4hyFNR"
      }
    },
    {
      "cell_type": "code",
      "source": [
        "init_model = init(input_size=2, hidden_size=2, output_size=1, seed=0)\n",
        "model = train(X, Y, init_model, num_epochs=10000, lr=1.0, seed=0)\n",
        "for param, value in model.items():\n",
        "    print(param, ' : \\n', value)\n",
        "    print('dimension: ', np.shape(value))"
      ],
      "metadata": {
        "id": "6PUcY7LqxUZG",
        "colab": {
          "base_uri": "https://localhost:8080/"
        },
        "outputId": "f04968bb-7765-4e32-d008-9d65b4dd5003"
      },
      "execution_count": 46,
      "outputs": [
        {
          "output_type": "stream",
          "name": "stdout",
          "text": [
            "W1  : \n",
            " [[0.92657028 7.72488708]\n",
            " [0.92657052 7.72501832]]\n",
            "dimension:  (2, 2)\n",
            "W2  : \n",
            " [[-33.17273965]\n",
            " [ 26.38316554]]\n",
            "dimension:  (2, 1)\n",
            "b1  : \n",
            " [0]\n",
            "dimension:  (1,)\n",
            "b2  : \n",
            " [0]\n",
            "dimension:  (1,)\n"
          ]
        }
      ]
    },
    {
      "cell_type": "code",
      "source": [
        "predict(X, Y, model)"
      ],
      "metadata": {
        "colab": {
          "base_uri": "https://localhost:8080/"
        },
        "id": "nc5I6Hg-5qVp",
        "outputId": "00b07f98-a518-4af5-946d-f4774eb62588"
      },
      "execution_count": 47,
      "outputs": [
        {
          "output_type": "stream",
          "name": "stdout",
          "text": [
            "prediction = 0.032459; ground truth = 0\n",
            "prediction = 0.931328; ground truth = 1\n",
            "prediction = 0.931328; ground truth = 1\n",
            "prediction = 0.091578; ground truth = 0\n"
          ]
        }
      ]
    }
  ]
}